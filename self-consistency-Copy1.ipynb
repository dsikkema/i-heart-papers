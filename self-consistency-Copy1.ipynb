{
 "cells": [
  {
   "cell_type": "markdown",
   "id": "6d3464e0-ea06-4c0f-a4d6-adbf45c9a486",
   "metadata": {},
   "source": [
    "# Intro\n",
    "* familiar bit: few shot, chain of reasoning style prompt\n",
    "* works with off the shelf models, no fine tuning, you can use this method with LLMs you get over api calls.\n",
    "* TODO: screenshot of cot prompt"
   ]
  },
  {
   "cell_type": "markdown",
   "id": "f49588ff-d498-44c1-a793-d33ec751245f",
   "metadata": {},
   "source": [
    "# Algorithm\n",
    "* screen shot of algo demo from paper\n",
    "* picture of Jon's diagram\n",
    "       "
   ]
  },
  {
   "cell_type": "markdown",
   "id": "c759d09a-1a5a-44bc-8d9d-beadfe02864b",
   "metadata": {},
   "source": [
    "# code\n",
    "babbage results"
   ]
  },
  {
   "cell_type": "code",
   "execution_count": 4,
   "id": "7f13d022-a928-4d20-8863-78e5c4c42830",
   "metadata": {},
   "outputs": [],
   "source": [
    "%%capture\n",
    "! pip install openai"
   ]
  },
  {
   "cell_type": "code",
   "execution_count": 5,
   "id": "dd05cce5-0e5a-4773-b42f-062b0fa2a35b",
   "metadata": {},
   "outputs": [],
   "source": [
    "from openai import Completion\n",
    "import openai"
   ]
  },
  {
   "cell_type": "code",
   "execution_count": 6,
   "id": "a60f7004-3c23-429c-ac27-3c4b9eb8c28b",
   "metadata": {},
   "outputs": [],
   "source": [
    "openai.api_key_path = '/root/.openai/key'"
   ]
  },
  {
   "cell_type": "code",
   "execution_count": 102,
   "id": "43be20f2-643f-41ea-a175-9867adb91c7a",
   "metadata": {},
   "outputs": [],
   "source": [
    "# note: this works with greedy decode\n",
    "few_shot_prompt='''Q: There are 15 trees in the grove. Grove workers will plant trees in the grove today. After they are done, there will be 21 trees. How many trees did the grove workers plant today?\n",
    "A: There are 15 trees originally. Then there were 21 trees after some more were planted. So there must have been 21 - 15 = 6. The answer is 6.\n",
    "Q: If there are 3 cars in the parking lot and 2 more cars arrive, how many cars are in the parking lot?\n",
    "A: There are originally 3 cars. 2 more cars arrive. 3 + 2 = 5. The answer is 5.\n",
    "Q: Leah had 32 chocolates and her sister had 42. If they ate 35, how many pieces do they have left in total?\n",
    "A: Originally, Leah had 32 chocolates. Her sister had 42. So in total they had 32 + 42 = 74. After eating 35, theyhad 74 - 35 = 39. The answer is 39.\n",
    "Q: Jason had 20 lollipops. He gave Denny some lollipops. Now Jason has 12 lollipops. How many lollipops did Jason give to Denny?\n",
    "A: Jason started with 20 lollipops. Then he had 12 after giving some to Denny. So he gave Denny 20 - 12 = 8. The answer is 8.\n",
    "Q: Shawn has five toys. For Christmas, he got two toys each from his mom and dad. How many toys does he have now?\n",
    "A: Shawn started with 5 toys. If he got 2 toys each from his mom and dad, then that is 4 more toys. 5 + 4 = 9. The answer is 9.\n",
    "Q: There were nine computers in the server room. Five more computers were installed each day, from monday to thursday. How many computers are now in the server room?\n",
    "A: There were originally 9 computers. For each of 4 days, 5 more computers were added. So 5 * 4 = 20 computers were added. 9 + 20 is 29. The answer is 29.\n",
    "Q: Michael had 58 golf balls. On tuesday, he lost 23 golf balls. On wednesday, he lost 2 more. How many golf balls did he have at the end of wednesday?\n",
    "A: Michael started with 58 golf balls. After losing 23 on tuesday, he had 58 - 23 = 35. After losing 2 more, he had 35 - 2 = 33 golf balls. The answer is 33.\n",
    "Q: Olivia has $23. She bought five bagels for $3 each. How much money does she have left?\n",
    "A: Olivia had 23 dollars. 5 bagels for 3 dollars each will be 5 x 3 = 15 dollars. So she has 28 - 15 dollars left. 28 - 15 = 8. The answer is 8.\n",
    "'''"
   ]
  },
  {
   "cell_type": "code",
   "execution_count": 85,
   "id": "3087c150-0931-4023-a2f5-70c330e2a4b1",
   "metadata": {},
   "outputs": [],
   "source": [
    "solvable_q='''Q: Alex had 18 cars, then doubled how many cars he had, then lost one-sixth of the cars, and finally gained one more. How many cars does he have at the end?\n",
    "A: '''"
   ]
  },
  {
   "cell_type": "code",
   "execution_count": 86,
   "id": "7ca33f7d-fd90-423e-8e78-b3298a68eb83",
   "metadata": {},
   "outputs": [],
   "source": [
    "sometimes_solvable_q='''Q: Kyle bought last year's best-selling book for $20. This is after a 25% discount from the original price. What was the original price of the book?\n",
    "A: '''"
   ]
  },
  {
   "cell_type": "code",
   "execution_count": 112,
   "id": "046347fa-7370-4a74-a5b0-1879edef55a5",
   "metadata": {},
   "outputs": [
    {
     "data": {
      "text/plain": [
       "'35% more means 35% + 100% = 135%. So the price will be 21 x 1.35 = 28.05. The answer is 28.05.\\n'"
      ]
     },
     "execution_count": 112,
     "metadata": {},
     "output_type": "execute_result"
    }
   ],
   "source": [
    "sometimes_solvable_q='''Q: Kyle bought last year's best-selling book for $21. Next year it will cost 35% more. How much will it cost next year?\n",
    "A: '''\n",
    "\n",
    "single = Completion.create(prompt=(few_shot_prompt + sometimes_solvable_q),\n",
    "                      model=\"davinci-002\", max_tokens=75, n=1, temperature=0.0, stop=\"Q: \")\n",
    "single['choices'][0]['text']"
   ]
  },
  {
   "cell_type": "code",
   "execution_count": 124,
   "id": "d9863233-8580-40d3-a58f-99bb07851dbc",
   "metadata": {},
   "outputs": [],
   "source": [
    "completions = Completion.create(prompt=(few_shot_prompt + sometimes_solvable_q),\n",
    "                      model=\"davinci-002\", top_p=.95, max_tokens=75, n=40, stop=\"Q: \")"
   ]
  },
  {
   "cell_type": "code",
   "execution_count": 125,
   "id": "864cd237-c5c9-4e6f-80bd-901f81adf222",
   "metadata": {},
   "outputs": [],
   "source": [
    "for response in completions['choices'][:3]:\n",
    "    pass\n",
    "    #print('=====\\n' + response['text'])\n",
    "\n"
   ]
  },
  {
   "cell_type": "code",
   "execution_count": 126,
   "id": "862335dd-5904-48a9-879f-319b3b21bb14",
   "metadata": {},
   "outputs": [
    {
     "data": {
      "text/plain": [
       "[('28.35.', 7), ('28.05.', 6), ('$28.05.', 3), ('28.35', 2), ('$28.05', 1)]"
      ]
     },
     "execution_count": 126,
     "metadata": {},
     "output_type": "execute_result"
    }
   ],
   "source": [
    "import re\n",
    "pattern = re.compile(r'answer is ([^\\s]+)')\n",
    "answers = []\n",
    "for response in completions['choices']:\n",
    "    matches = pattern.findall(response['text'])\n",
    "    if len(matches) > 0:\n",
    "        answers.append(matches[0])\n",
    "\n",
    "from collections import Counter\n",
    "ctr = Counter(answers)\n",
    "ctr.most_common(5)"
   ]
  },
  {
   "cell_type": "markdown",
   "id": "c5d5e55b-0af9-4a9e-b9b8-ac04ae2c6775",
   "metadata": {},
   "source": [
    "# Results\n",
    "## parameters\n",
    "40 samples, temperature sampling t=.5, topk=40, but results compatible with many sampling strategies\n",
    "## specific result improvement example\n",
    "davinci-002 / GSM8k, 60.1 -> 78, + 17.9% difference\n",
    "screenshot of the gsm8k question\n",
    "\n",
    "## Screenshot of the greedy vs. sampled paths for palm-540b\n",
    "screenshot of row example from appendix, palm also saw 17.9% improvement\n",
    "\n",
    "## table of results\n",
    "lots of info"
   ]
  },
  {
   "cell_type": "markdown",
   "id": "a90c6c06-a054-4324-bcf7-3140dcd3a821",
   "metadata": {},
   "source": [
    "# Compare to other approaches \n",
    "* multimodel ensemble - only 3, unsure exactly how algo worked for this, but did worse\n",
    "* ensemble of prompts - confusing\n",
    "* beam search (used by itself)"
   ]
  },
  {
   "cell_type": "markdown",
   "id": "37a79e90-9f21-4bac-8799-1c0096710f41",
   "metadata": {},
   "source": [
    "# Effects of parameters\n",
    "* num reasoning paths\n",
    "  * perf saturation after 10\n",
    "* temperature, top k, top p\n",
    "* sampling method - beam search works, but has less diversity than other methods"
   ]
  },
  {
   "cell_type": "markdown",
   "id": "8bfb94a2-c0a0-440e-b08f-b8093b7b2c6c",
   "metadata": {},
   "source": [
    "# Observations\n",
    "* bigger effect with higher model size\n",
    "* consistency % is confidence indicator\n",
    "  * show graph\n",
    "* trade 1 time compute at train for permanent 10x or more compute cost increase"
   ]
  }
 ],
 "metadata": {
  "kernelspec": {
   "display_name": "Python 3 (ipykernel)",
   "language": "python",
   "name": "python3"
  },
  "language_info": {
   "codemirror_mode": {
    "name": "ipython",
    "version": 3
   },
   "file_extension": ".py",
   "mimetype": "text/x-python",
   "name": "python",
   "nbconvert_exporter": "python",
   "pygments_lexer": "ipython3",
   "version": "3.9.13"
  }
 },
 "nbformat": 4,
 "nbformat_minor": 5
}
