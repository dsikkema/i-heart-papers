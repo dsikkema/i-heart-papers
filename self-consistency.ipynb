{
 "cells": [
  {
   "cell_type": "markdown",
   "id": "6d3464e0-ea06-4c0f-a4d6-adbf45c9a486",
   "metadata": {},
   "source": [
    "# Intro\n",
    "* familiar bit: few shot, chain of reasoning style prompt\n",
    "* works with off the shelf models, no fine tuning, you can use this method with LLMs you get over api calls.\n",
    "* TODO: screenshot of cot prompt"
   ]
  },
  {
   "cell_type": "markdown",
   "id": "f49588ff-d498-44c1-a793-d33ec751245f",
   "metadata": {},
   "source": [
    "# Algorithm\n",
    "* screen shot of algo demo from paper\n",
    "* picture of Jon's diagram\n",
    "       "
   ]
  },
  {
   "cell_type": "markdown",
   "id": "c759d09a-1a5a-44bc-8d9d-beadfe02864b",
   "metadata": {},
   "source": [
    "# code\n",
    "babbage results"
   ]
  },
  {
   "cell_type": "markdown",
   "id": "c5d5e55b-0af9-4a9e-b9b8-ac04ae2c6775",
   "metadata": {},
   "source": [
    "# Results\n",
    "## parameters\n",
    "40 samples, temperature sampling t=.5, topk=40, but results compatible with many sampling strategies\n",
    "## specific result improvement example\n",
    "davinci-002 / GSM8k, 60.1 -> 78, + 17.9% difference\n",
    "screenshot of the gsm8k question\n",
    "\n",
    "## Screenshot of the greedy vs. sampled paths for palm-540b\n",
    "screenshot of row example from appendix, palm also saw 17.9% improvement\n",
    "\n",
    "## table of results\n",
    "lots of info"
   ]
  },
  {
   "cell_type": "markdown",
   "id": "a90c6c06-a054-4324-bcf7-3140dcd3a821",
   "metadata": {},
   "source": [
    "# Compare to other approaches \n",
    "* multimodel ensemble - only 3, unsure exactly how algo worked for this, but did worse\n",
    "* ensemble of prompts - confusing\n",
    "* beam search (used by itself)"
   ]
  },
  {
   "cell_type": "markdown",
   "id": "37a79e90-9f21-4bac-8799-1c0096710f41",
   "metadata": {},
   "source": [
    "# Effects of parameters\n",
    "* num reasoning paths\n",
    "  * perf saturation after 10\n",
    "* temperature, top k, top p\n",
    "* sampling method - beam search works, but has less diversity than other methods"
   ]
  },
  {
   "cell_type": "markdown",
   "id": "8bfb94a2-c0a0-440e-b08f-b8093b7b2c6c",
   "metadata": {},
   "source": [
    "# Observations\n",
    "* bigger effect with higher model size\n",
    "* consistency % is confidence indicator\n",
    "  * show graph\n",
    "* trade 1 time compute at train for permanent 10x or more compute cost increase"
   ]
  }
 ],
 "metadata": {
  "kernelspec": {
   "display_name": "Python 3 (ipykernel)",
   "language": "python",
   "name": "python3"
  },
  "language_info": {
   "codemirror_mode": {
    "name": "ipython",
    "version": 3
   },
   "file_extension": ".py",
   "mimetype": "text/x-python",
   "name": "python",
   "nbconvert_exporter": "python",
   "pygments_lexer": "ipython3",
   "version": "3.9.13"
  }
 },
 "nbformat": 4,
 "nbformat_minor": 5
}
